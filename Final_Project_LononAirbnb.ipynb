{
 "cells": [
  {
   "cell_type": "code",
   "execution_count": 1,
   "metadata": {},
   "outputs": [],
   "source": [
    "import pandas as pd\n",
    "import numpy as np\n",
    "import random\n",
    "import matplotlib.pyplot as plt\n",
    "import matplotlib.image as mpimg\n",
    "%matplotlib inline\n",
    "import seaborn as sns\n",
    "from matplotlib import rcParams\n"
   ]
  },
  {
   "cell_type": "code",
   "execution_count": 2,
   "metadata": {
    "scrolled": true
   },
   "outputs": [
    {
     "name": "stderr",
     "output_type": "stream",
     "text": [
      "C:\\ProgramData\\Anaconda3\\lib\\site-packages\\IPython\\core\\interactiveshell.py:3058: DtypeWarning: Columns (61,62,94,95) have mixed types. Specify dtype option on import or set low_memory=False.\n",
      "  interactivity=interactivity, compiler=compiler, result=result)\n"
     ]
    },
    {
     "data": {
      "text/plain": [
       "(85068, 106)"
      ]
     },
     "execution_count": 2,
     "metadata": {},
     "output_type": "execute_result"
    }
   ],
   "source": [
    "# read data to csv\n",
    "listing = pd.read_csv('D:/airbnb/listings.csv')\n",
    "listing.shape"
   ]
  },
  {
   "cell_type": "code",
   "execution_count": 3,
   "metadata": {},
   "outputs": [
    {
     "data": {
      "text/html": [
       "<div>\n",
       "<style scoped>\n",
       "    .dataframe tbody tr th:only-of-type {\n",
       "        vertical-align: middle;\n",
       "    }\n",
       "\n",
       "    .dataframe tbody tr th {\n",
       "        vertical-align: top;\n",
       "    }\n",
       "\n",
       "    .dataframe thead th {\n",
       "        text-align: right;\n",
       "    }\n",
       "</style>\n",
       "<table border=\"1\" class=\"dataframe\">\n",
       "  <thead>\n",
       "    <tr style=\"text-align: right;\">\n",
       "      <th></th>\n",
       "      <th>listing_id</th>\n",
       "      <th>date</th>\n",
       "      <th>available</th>\n",
       "      <th>price</th>\n",
       "      <th>adjusted_price</th>\n",
       "      <th>minimum_nights</th>\n",
       "      <th>maximum_nights</th>\n",
       "      <th>id</th>\n",
       "    </tr>\n",
       "  </thead>\n",
       "  <tbody>\n",
       "    <tr>\n",
       "      <td>0</td>\n",
       "      <td>11551</td>\n",
       "      <td>2019-11-06</td>\n",
       "      <td>f</td>\n",
       "      <td>$105.00</td>\n",
       "      <td>$105.00</td>\n",
       "      <td>3.0</td>\n",
       "      <td>180.0</td>\n",
       "      <td>11551</td>\n",
       "    </tr>\n",
       "    <tr>\n",
       "      <td>1</td>\n",
       "      <td>90700</td>\n",
       "      <td>2019-11-06</td>\n",
       "      <td>f</td>\n",
       "      <td>$125.00</td>\n",
       "      <td>$125.00</td>\n",
       "      <td>90.0</td>\n",
       "      <td>1125.0</td>\n",
       "      <td>90700</td>\n",
       "    </tr>\n",
       "    <tr>\n",
       "      <td>2</td>\n",
       "      <td>90700</td>\n",
       "      <td>2019-11-07</td>\n",
       "      <td>f</td>\n",
       "      <td>$125.00</td>\n",
       "      <td>$125.00</td>\n",
       "      <td>90.0</td>\n",
       "      <td>1125.0</td>\n",
       "      <td>90700</td>\n",
       "    </tr>\n",
       "  </tbody>\n",
       "</table>\n",
       "</div>"
      ],
      "text/plain": [
       "   listing_id        date available    price adjusted_price  minimum_nights  \\\n",
       "0       11551  2019-11-06         f  $105.00        $105.00             3.0   \n",
       "1       90700  2019-11-06         f  $125.00        $125.00            90.0   \n",
       "2       90700  2019-11-07         f  $125.00        $125.00            90.0   \n",
       "\n",
       "   maximum_nights     id  \n",
       "0           180.0  11551  \n",
       "1          1125.0  90700  \n",
       "2          1125.0  90700  "
      ]
     },
     "execution_count": 3,
     "metadata": {},
     "output_type": "execute_result"
    }
   ],
   "source": [
    "# read data to csv\n",
    "calendar = pd.read_csv('D:/airbnb/calendar.csv')\n",
    "calendar['id']=calendar['listing_id']\n",
    "calendar.head(3)"
   ]
  },
  {
   "cell_type": "code",
   "execution_count": 4,
   "metadata": {},
   "outputs": [
    {
     "data": {
      "text/html": [
       "<div>\n",
       "<style scoped>\n",
       "    .dataframe tbody tr th:only-of-type {\n",
       "        vertical-align: middle;\n",
       "    }\n",
       "\n",
       "    .dataframe tbody tr th {\n",
       "        vertical-align: top;\n",
       "    }\n",
       "\n",
       "    .dataframe thead th {\n",
       "        text-align: right;\n",
       "    }\n",
       "</style>\n",
       "<table border=\"1\" class=\"dataframe\">\n",
       "  <thead>\n",
       "    <tr style=\"text-align: right;\">\n",
       "      <th></th>\n",
       "      <th>neighbourhood_group</th>\n",
       "      <th>neighbourhood</th>\n",
       "    </tr>\n",
       "  </thead>\n",
       "  <tbody>\n",
       "    <tr>\n",
       "      <td>0</td>\n",
       "      <td>NaN</td>\n",
       "      <td>Barking and Dagenham</td>\n",
       "    </tr>\n",
       "    <tr>\n",
       "      <td>1</td>\n",
       "      <td>NaN</td>\n",
       "      <td>Barnet</td>\n",
       "    </tr>\n",
       "    <tr>\n",
       "      <td>2</td>\n",
       "      <td>NaN</td>\n",
       "      <td>Bexley</td>\n",
       "    </tr>\n",
       "  </tbody>\n",
       "</table>\n",
       "</div>"
      ],
      "text/plain": [
       "   neighbourhood_group         neighbourhood\n",
       "0                  NaN  Barking and Dagenham\n",
       "1                  NaN                Barnet\n",
       "2                  NaN                Bexley"
      ]
     },
     "execution_count": 4,
     "metadata": {},
     "output_type": "execute_result"
    }
   ],
   "source": [
    "# read data to csv\n",
    "barrios = pd.read_csv('D:/airbnb/neighbourhoods.csv')\n",
    "barrios.head(3)"
   ]
  },
  {
   "cell_type": "code",
   "execution_count": 5,
   "metadata": {
    "scrolled": true
   },
   "outputs": [
    {
     "name": "stdout",
     "output_type": "stream",
     "text": [
      "########### Years from  2019-11-05  TO  2020-11-04\n",
      "*********** Price from  $0.00  TO  $999.00\n"
     ]
    }
   ],
   "source": [
    "#data range\n",
    "print('########### Years from ',min(calendar['date']) , ' TO ', max(calendar['date']) )\n",
    "print('*********** Price from ',min(listing['price']) , ' TO ', max(listing['price']) )"
   ]
  },
  {
   "cell_type": "code",
   "execution_count": 6,
   "metadata": {
    "scrolled": true
   },
   "outputs": [
    {
     "data": {
      "text/plain": [
       "listing_id        10151834\n",
       "date              10151834\n",
       "available         10151834\n",
       "price             10151653\n",
       "adjusted_price    10151653\n",
       "minimum_nights    10151834\n",
       "maximum_nights    10151834\n",
       "id                10151834\n",
       "dtype: int64"
      ]
     },
     "execution_count": 6,
     "metadata": {},
     "output_type": "execute_result"
    }
   ],
   "source": [
    "#avg price\n",
    "hist_indicator = 't'\n",
    "calv = calendar['available'].isin([hist_indicator]) \n",
    "CalendarData= calendar[calv] \n",
    "CalendarData.count()"
   ]
  },
  {
   "cell_type": "code",
   "execution_count": 7,
   "metadata": {},
   "outputs": [],
   "source": [
    "# function to clean currency data\n",
    "def clean_currency(x):\n",
    "    \"\"\" If the value is a string, then remove currency symbol and delimiters\n",
    "    otherwise, the value is numeric and can be converted\n",
    "    \"\"\"\n",
    "    if isinstance(x, str):\n",
    "        return(x.replace('$', '').replace(',', ''))\n",
    "    return(x)"
   ]
  },
  {
   "cell_type": "code",
   "execution_count": 8,
   "metadata": {},
   "outputs": [
    {
     "name": "stderr",
     "output_type": "stream",
     "text": [
      "C:\\ProgramData\\Anaconda3\\lib\\site-packages\\ipykernel_launcher.py:2: SettingWithCopyWarning: \n",
      "A value is trying to be set on a copy of a slice from a DataFrame.\n",
      "Try using .loc[row_indexer,col_indexer] = value instead\n",
      "\n",
      "See the caveats in the documentation: http://pandas.pydata.org/pandas-docs/stable/user_guide/indexing.html#returning-a-view-versus-a-copy\n",
      "  \n"
     ]
    }
   ],
   "source": [
    "#cleaning data\n",
    "CalendarData['price'] = CalendarData['price'].apply(clean_currency).astype('float')\n"
   ]
  },
  {
   "cell_type": "code",
   "execution_count": 9,
   "metadata": {},
   "outputs": [],
   "source": [
    "##add agrupation for end of month\n",
    "CalendarData= CalendarData.copy()\n",
    "CalendarData['yearMonth'] = CalendarData['date'].str[:7]"
   ]
  },
  {
   "cell_type": "code",
   "execution_count": 10,
   "metadata": {},
   "outputs": [
    {
     "data": {
      "text/html": [
       "<div>\n",
       "<style scoped>\n",
       "    .dataframe tbody tr th:only-of-type {\n",
       "        vertical-align: middle;\n",
       "    }\n",
       "\n",
       "    .dataframe tbody tr th {\n",
       "        vertical-align: top;\n",
       "    }\n",
       "\n",
       "    .dataframe thead th {\n",
       "        text-align: right;\n",
       "    }\n",
       "</style>\n",
       "<table border=\"1\" class=\"dataframe\">\n",
       "  <thead>\n",
       "    <tr style=\"text-align: right;\">\n",
       "      <th></th>\n",
       "      <th>listing_id</th>\n",
       "      <th>date</th>\n",
       "      <th>available</th>\n",
       "      <th>price</th>\n",
       "      <th>adjusted_price</th>\n",
       "      <th>minimum_nights</th>\n",
       "      <th>maximum_nights</th>\n",
       "      <th>id</th>\n",
       "      <th>yearMonth</th>\n",
       "    </tr>\n",
       "  </thead>\n",
       "  <tbody>\n",
       "    <tr>\n",
       "      <td>61</td>\n",
       "      <td>90700</td>\n",
       "      <td>2020-01-05</td>\n",
       "      <td>t</td>\n",
       "      <td>125.0</td>\n",
       "      <td>$125.00</td>\n",
       "      <td>2.0</td>\n",
       "      <td>1125.0</td>\n",
       "      <td>90700</td>\n",
       "      <td>2020-01</td>\n",
       "    </tr>\n",
       "    <tr>\n",
       "      <td>62</td>\n",
       "      <td>90700</td>\n",
       "      <td>2020-01-06</td>\n",
       "      <td>t</td>\n",
       "      <td>125.0</td>\n",
       "      <td>$125.00</td>\n",
       "      <td>2.0</td>\n",
       "      <td>1125.0</td>\n",
       "      <td>90700</td>\n",
       "      <td>2020-01</td>\n",
       "    </tr>\n",
       "  </tbody>\n",
       "</table>\n",
       "</div>"
      ],
      "text/plain": [
       "    listing_id        date available  price adjusted_price  minimum_nights  \\\n",
       "61       90700  2020-01-05         t  125.0        $125.00             2.0   \n",
       "62       90700  2020-01-06         t  125.0        $125.00             2.0   \n",
       "\n",
       "    maximum_nights     id yearMonth  \n",
       "61          1125.0  90700   2020-01  \n",
       "62          1125.0  90700   2020-01  "
      ]
     },
     "execution_count": 10,
     "metadata": {},
     "output_type": "execute_result"
    }
   ],
   "source": [
    "CalendarData.dtypes\n",
    "CalendarData.head(2)"
   ]
  },
  {
   "cell_type": "code",
   "execution_count": 11,
   "metadata": {},
   "outputs": [
    {
     "name": "stdout",
     "output_type": "stream",
     "text": [
      "######Price from  8.0  max  12345.0\n"
     ]
    }
   ],
   "source": [
    "print('######Price from ',min(CalendarData['price']) , ' max ', max(CalendarData['price']))"
   ]
  },
  {
   "cell_type": "code",
   "execution_count": 12,
   "metadata": {},
   "outputs": [
    {
     "data": {
      "text/plain": [
       "count    1.015165e+07\n",
       "mean     1.533118e+02\n",
       "std      2.697322e+02\n",
       "min      8.000000e+00\n",
       "25%      5.000000e+01\n",
       "50%      9.700000e+01\n",
       "75%      1.750000e+02\n",
       "max      1.234500e+04\n",
       "Name: price, dtype: float64"
      ]
     },
     "execution_count": 12,
     "metadata": {},
     "output_type": "execute_result"
    }
   ],
   "source": [
    "CalendarData['price'].describe()"
   ]
  },
  {
   "cell_type": "code",
   "execution_count": 13,
   "metadata": {
    "scrolled": true
   },
   "outputs": [
    {
     "data": {
      "text/html": [
       "<div>\n",
       "<style scoped>\n",
       "    .dataframe tbody tr th:only-of-type {\n",
       "        vertical-align: middle;\n",
       "    }\n",
       "\n",
       "    .dataframe tbody tr th {\n",
       "        vertical-align: top;\n",
       "    }\n",
       "\n",
       "    .dataframe thead th {\n",
       "        text-align: right;\n",
       "    }\n",
       "</style>\n",
       "<table border=\"1\" class=\"dataframe\">\n",
       "  <thead>\n",
       "    <tr style=\"text-align: right;\">\n",
       "      <th></th>\n",
       "      <th>yearMonth</th>\n",
       "      <th>price</th>\n",
       "      <th>priceMax</th>\n",
       "    </tr>\n",
       "  </thead>\n",
       "  <tbody>\n",
       "    <tr>\n",
       "      <td>0</td>\n",
       "      <td>2019-11</td>\n",
       "      <td>8.0</td>\n",
       "      <td>12345.0</td>\n",
       "    </tr>\n",
       "    <tr>\n",
       "      <td>1</td>\n",
       "      <td>2019-12</td>\n",
       "      <td>8.0</td>\n",
       "      <td>12345.0</td>\n",
       "    </tr>\n",
       "  </tbody>\n",
       "</table>\n",
       "</div>"
      ],
      "text/plain": [
       "  yearMonth  price  priceMax\n",
       "0   2019-11    8.0   12345.0\n",
       "1   2019-12    8.0   12345.0"
      ]
     },
     "execution_count": 13,
     "metadata": {},
     "output_type": "execute_result"
    }
   ],
   "source": [
    "##calculate max an min price\n",
    "ratings_count_min = CalendarData[['yearMonth','price']].groupby('yearMonth', as_index=False).min()\n",
    "ratings_count_max = CalendarData[['yearMonth','price']].groupby('yearMonth',as_index=False).max()\n",
    "ratings_count_min ['priceMax'] = ratings_count_max['price']\n",
    "ratings_count_min.head(2)"
   ]
  },
  {
   "cell_type": "code",
   "execution_count": 14,
   "metadata": {},
   "outputs": [
    {
     "data": {
      "text/plain": [
       "2020-01    1177856\n",
       "2020-03     998347\n",
       "2020-02     961170\n",
       "2020-04     948627\n",
       "2019-12     941610\n",
       "Name: yearMonth, dtype: int64"
      ]
     },
     "execution_count": 14,
     "metadata": {},
     "output_type": "execute_result"
    }
   ],
   "source": [
    "#count of rows\n",
    "months = CalendarData['yearMonth'].drop_duplicates()\n",
    "tag_counts = CalendarData['yearMonth'].value_counts()\n",
    "tag_counts.head()"
   ]
  },
  {
   "cell_type": "code",
   "execution_count": 15,
   "metadata": {
    "scrolled": true
   },
   "outputs": [
    {
     "data": {
      "image/png": "[encoded data removed]",
      "text/plain": [
       "<Figure size 1080x504 with 1 Axes>"
      ]
     },
     "metadata": {
      "needs_background": "light"
     },
     "output_type": "display_data"
    }
   ],
   "source": [
    "##counter by month\n",
    "%matplotlib inline\n",
    "import matplotlib.pyplot as plt\n",
    "\n",
    "fig, axis = plt.subplots(figsize=(15,7))\n",
    "# Grid lines, Xticks, Xlabel, Ylabel\n",
    "\n",
    "axis.set_xlabel(' Months   ',fontsize=12, color='brown')\n",
    "axis.set_ylabel('Value',fontsize=10, color='brown')\n",
    "\n",
    "X = months\n",
    "Y = tag_counts\n",
    "\n",
    "plt.title('Number of accommodation disponible \\n by month', color='brown')\n",
    "axis.bar(X,Y)\n",
    "axis.grid(True)\n",
    "plt.show()"
   ]
  },
  {
   "cell_type": "code",
   "execution_count": 16,
   "metadata": {},
   "outputs": [
    {
     "data": {
      "image/png": "[encoded data removed]",
      "text/plain": [
       "<Figure size 720x504 with 1 Axes>"
      ]
     },
     "metadata": {
      "needs_background": "light"
     },
     "output_type": "display_data"
    }
   ],
   "source": [
    "##MIN PRICE BY MONTH\n",
    "ax = ratings_count_min[['price', 'priceMax']].plot(kind='barh',\n",
    "              figsize=(10,7), color=['dodgerblue', 'green'], fontsize=13);\n",
    "ax.set_alpha(0.8)\n",
    "ax.set_title(\"Max and min preci of accommodation \\n by month\",fontsize=18, color='orange')\n",
    "ax.set_xlabel(\"Price\", fontsize=18)\n",
    "ax.set_ylabel(\"Month\", fontsize=18)\n",
    "\n",
    "ax.set_yticklabels(ratings_count_min['yearMonth'])\n",
    "\n",
    "# set individual bar lables using above list\n",
    "for i in ax.patches:\n",
    "    # get_width pulls left or right; get_y pushes up or down\n",
    "    #ax.annotate(str(p.get_height()), (p.get_x(), p.get_height()),fontsize=13,color='green')\n",
    "    ax.text(i.get_width(), i.get_y(), \\\n",
    "            str(round((i.get_width()), 2)), fontsize=11, color='olive')\n",
    "\n",
    "# invert for largest on top \n",
    "ax.invert_yaxis()"
   ]
  },
  {
   "cell_type": "code",
   "execution_count": 17,
   "metadata": {},
   "outputs": [
    {
     "data": {
      "text/plain": [
       "<matplotlib.axes._subplots.AxesSubplot at 0x21280c31588>"
      ]
     },
     "execution_count": 17,
     "metadata": {},
     "output_type": "execute_result"
    },
    {
     "data": {
      "image/png": "[encoded data removed]",
      "text/plain": [
       "<Figure size 1080x720 with 1 Axes>"
      ]
     },
     "metadata": {
      "needs_background": "light"
     },
     "output_type": "display_data"
    }
   ],
   "source": [
    "##koin calendar and neighbourhoods\n",
    "ratings_count_avg = CalendarData[['yearMonth','price']].groupby('yearMonth', as_index=False).mean()\n",
    "ratings_count_avg.plot(x='yearMonth', y='price', figsize=(15,10), grid=True, title='Average to price')"
   ]
  },
  {
   "cell_type": "code",
   "execution_count": 18,
   "metadata": {},
   "outputs": [
    {
     "data": {
      "text/plain": [
       "(85068, 106)"
      ]
     },
     "execution_count": 18,
     "metadata": {},
     "output_type": "execute_result"
    }
   ],
   "source": [
    "joined=listing.merge(barrios, on=['neighbourhood'], how='inner')\n",
    "joined['price'] = joined['price'].apply(clean_currency).astype('float')\n",
    "listing.shape"
   ]
  },
  {
   "cell_type": "code",
   "execution_count": 19,
   "metadata": {},
   "outputs": [
    {
     "data": {
      "text/plain": [
       "<matplotlib.legend.Legend at 0x21280cec8c8>"
      ]
     },
     "execution_count": 19,
     "metadata": {},
     "output_type": "execute_result"
    },
    {
     "data": {
      "text/plain": [
       "<Figure size 1080x720 with 0 Axes>"
      ]
     },
     "metadata": {},
     "output_type": "display_data"
    },
    {
     "data": {
      "image/png": "[encoded data removed]",
      "text/plain": [
       "<Figure size 1080x504 with 1 Axes>"
      ]
     },
     "metadata": {
      "needs_background": "light"
     },
     "output_type": "display_data"
    }
   ],
   "source": [
    "plt.figure(figsize=(15,10))\n",
    "\n",
    "fig, ax = plt.subplots(figsize=(15,7))\n",
    "plt.title('Average , minimun by price \\n by neighbourhood\\n', color='brown')\n",
    "plt.xlabel('Neighbourhood',fontsize=12, color='brown')\n",
    "plt.ylabel( 'Price',fontsize=10, color='brown')\n",
    "\n",
    "##join calendar and neighbourhoods  title='Average to price \\n by neighbourhood_group',\n",
    "avergeCity = joined[['neighbourhood','price']].groupby('neighbourhood', as_index=False).mean()\n",
    "plt.plot(avergeCity['neighbourhood'], avergeCity['price'],marker='.', markerfacecolor='blue', markersize=12, color='green', linewidth=1,label=\"Avg Price\")\n",
    "\n",
    "#minimum price\n",
    "\n",
    "avergeCitymin = joined[['neighbourhood','price']].groupby('neighbourhood', as_index=False).min()\n",
    "plt.plot(avergeCitymin['neighbourhood'], avergeCitymin['price'], marker='.', markerfacecolor='green', markersize=12, color='red', linewidth=1,label=\"Minimun Price\")\n",
    "\n",
    "plt.legend(bbox_to_anchor=(1, 1.02),fancybox=True, shadow=True)"
   ]
  },
  {
   "cell_type": "code",
   "execution_count": 20,
   "metadata": {},
   "outputs": [
    {
     "data": {
      "image/png": "[encoded data removed]",
      "text/plain": [
       "<Figure size 1080x720 with 1 Axes>"
      ]
     },
     "metadata": {
      "needs_background": "light"
     },
     "output_type": "display_data"
    }
   ],
   "source": [
    "\n",
    "##Maximun price\n",
    "\n",
    "avergeCitymax = joined[['neighbourhood','price']].groupby('neighbourhood', as_index=True).max()\n",
    "ax=avergeCitymax.plot(kind='bar', figsize=(15,10), title='Neighbourhood maxium price \\n')\n",
    "for p in ax.patches:\n",
    "    ax.annotate(str(p.get_height()), (p.get_x(), p.get_height()),fontsize=13,color='orange')"
   ]
  },
  {
   "cell_type": "code",
   "execution_count": 21,
   "metadata": {},
   "outputs": [
    {
     "data": {
      "text/plain": [
       "Text(0.5, 1.0, 'Density and distribution of prices for each neighberhood')"
      ]
     },
     "execution_count": 21,
     "metadata": {},
     "output_type": "execute_result"
    },
    {
     "data": {
      "image/png": "[encoded data removed]",
      "text/plain": [
       "<Figure size 936x360 with 1 Axes>"
      ]
     },
     "metadata": {
      "needs_background": "light"
     },
     "output_type": "display_data"
    }
   ],
   "source": [
    "#desnity and distribution\n",
    "sub1=joined[joined.price < 1000]\n",
    "plt.figure(figsize=(13,5))\n",
    "viz_2=sns.violinplot(data=sub1, x='neighbourhood', y='price', height=8, aspect=2)\n",
    "viz_2.set_title('Density and distribution of prices for each neighberhood')\n"
   ]
  },
  {
   "cell_type": "code",
   "execution_count": 22,
   "metadata": {},
   "outputs": [
    {
     "data": {
      "image/png": "[encoded data removed]",
      "text/plain": [
       "<Figure size 1080x720 with 1 Axes>"
      ]
     },
     "metadata": {
      "needs_background": "light"
     },
     "output_type": "display_data"
    }
   ],
   "source": [
    "#avg price\n",
    "avergeCitymax = joined[['room_type','price']].groupby('room_type', as_index=True).mean()\n",
    "ax = avergeCitymax.plot(kind='bar', figsize=(15,10), title='Room_type average price \\n')\n",
    "\n",
    "for p in ax.patches:\n",
    "    ax.annotate(str(p.get_height()), (p.get_x(), p.get_height()),fontsize=13,color='green')"
   ]
  },
  {
   "cell_type": "code",
   "execution_count": 23,
   "metadata": {},
   "outputs": [],
   "source": [
    "##imports lineal regresion\n",
    "from sklearn.linear_model import LinearRegression\n",
    "from sklearn.model_selection import train_test_split\n",
    "from sklearn.metrics import mean_squared_error\n",
    "from math import sqrt"
   ]
  },
  {
   "cell_type": "code",
   "execution_count": 24,
   "metadata": {},
   "outputs": [
    {
     "data": {
      "text/plain": [
       "Index(['id', 'listing_url', 'scrape_id', 'last_scraped', 'name', 'summary',\n",
       "       'space', 'description', 'experiences_offered', 'neighborhood_overview',\n",
       "       ...\n",
       "       'instant_bookable', 'is_business_travel_ready', 'cancellation_policy',\n",
       "       'require_guest_profile_picture', 'require_guest_phone_verification',\n",
       "       'calculated_host_listings_count',\n",
       "       'calculated_host_listings_count_entire_homes',\n",
       "       'calculated_host_listings_count_private_rooms',\n",
       "       'calculated_host_listings_count_shared_rooms', 'reviews_per_month'],\n",
       "      dtype='object', length=106)"
      ]
     },
     "execution_count": 24,
     "metadata": {},
     "output_type": "execute_result"
    }
   ],
   "source": [
    "listing.columns"
   ]
  },
  {
   "cell_type": "code",
   "execution_count": 25,
   "metadata": {},
   "outputs": [],
   "source": [
    "#Specify the Prediction Target \n",
    "features = [ 'latitude', 'longitude',  \n",
    "            'minimum_nights', 'number_of_reviews','availability_365']"
   ]
  },
  {
   "cell_type": "code",
   "execution_count": 26,
   "metadata": {},
   "outputs": [],
   "source": [
    "target = ['price']"
   ]
  },
  {
   "cell_type": "code",
   "execution_count": 27,
   "metadata": {},
   "outputs": [
    {
     "data": {
      "text/plain": [
       "2561"
      ]
     },
     "execution_count": 27,
     "metadata": {},
     "output_type": "execute_result"
    }
   ],
   "source": [
    "joined['id'].count()"
   ]
  },
  {
   "cell_type": "code",
   "execution_count": 28,
   "metadata": {},
   "outputs": [
    {
     "data": {
      "text/html": [
       "<div>\n",
       "<style scoped>\n",
       "    .dataframe tbody tr th:only-of-type {\n",
       "        vertical-align: middle;\n",
       "    }\n",
       "\n",
       "    .dataframe tbody tr th {\n",
       "        vertical-align: top;\n",
       "    }\n",
       "\n",
       "    .dataframe thead th {\n",
       "        text-align: right;\n",
       "    }\n",
       "</style>\n",
       "<table border=\"1\" class=\"dataframe\">\n",
       "  <thead>\n",
       "    <tr style=\"text-align: right;\">\n",
       "      <th></th>\n",
       "      <th>latitude</th>\n",
       "      <th>longitude</th>\n",
       "      <th>minimum_nights</th>\n",
       "      <th>number_of_reviews</th>\n",
       "      <th>availability_365</th>\n",
       "    </tr>\n",
       "  </thead>\n",
       "  <tbody>\n",
       "    <tr>\n",
       "      <td>0</td>\n",
       "      <td>51.50205</td>\n",
       "      <td>-0.10015</td>\n",
       "      <td>1</td>\n",
       "      <td>91</td>\n",
       "      <td>353</td>\n",
       "    </tr>\n",
       "    <tr>\n",
       "      <td>1</td>\n",
       "      <td>51.49865</td>\n",
       "      <td>-0.10284</td>\n",
       "      <td>3</td>\n",
       "      <td>146</td>\n",
       "      <td>0</td>\n",
       "    </tr>\n",
       "  </tbody>\n",
       "</table>\n",
       "</div>"
      ],
      "text/plain": [
       "   latitude  longitude  minimum_nights  number_of_reviews  availability_365\n",
       "0  51.50205   -0.10015               1                 91               353\n",
       "1  51.49865   -0.10284               3                146                 0"
      ]
     },
     "execution_count": 28,
     "metadata": {},
     "output_type": "execute_result"
    }
   ],
   "source": [
    "x= joined[features]\n",
    "x.head(2)\n"
   ]
  },
  {
   "cell_type": "code",
   "execution_count": 29,
   "metadata": {
    "scrolled": true
   },
   "outputs": [
    {
     "data": {
      "text/html": [
       "<div>\n",
       "<style scoped>\n",
       "    .dataframe tbody tr th:only-of-type {\n",
       "        vertical-align: middle;\n",
       "    }\n",
       "\n",
       "    .dataframe tbody tr th {\n",
       "        vertical-align: top;\n",
       "    }\n",
       "\n",
       "    .dataframe thead th {\n",
       "        text-align: right;\n",
       "    }\n",
       "</style>\n",
       "<table border=\"1\" class=\"dataframe\">\n",
       "  <thead>\n",
       "    <tr style=\"text-align: right;\">\n",
       "      <th></th>\n",
       "      <th>price</th>\n",
       "    </tr>\n",
       "  </thead>\n",
       "  <tbody>\n",
       "    <tr>\n",
       "      <td>0</td>\n",
       "      <td>60.0</td>\n",
       "    </tr>\n",
       "    <tr>\n",
       "      <td>1</td>\n",
       "      <td>69.0</td>\n",
       "    </tr>\n",
       "  </tbody>\n",
       "</table>\n",
       "</div>"
      ],
      "text/plain": [
       "   price\n",
       "0   60.0\n",
       "1   69.0"
      ]
     },
     "execution_count": 29,
     "metadata": {},
     "output_type": "execute_result"
    }
   ],
   "source": [
    "y = joined[target]\n",
    "y.head(2)\n"
   ]
  },
  {
   "cell_type": "code",
   "execution_count": 30,
   "metadata": {},
   "outputs": [
    {
     "data": {
      "text/plain": [
       "latitude              51.49907\n",
       "longitude             -0.08119\n",
       "minimum_nights         2.00000\n",
       "number_of_reviews    159.00000\n",
       "availability_365       0.00000\n",
       "Name: 2, dtype: float64"
      ]
     },
     "execution_count": 30,
     "metadata": {},
     "output_type": "execute_result"
    }
   ],
   "source": [
    "x.iloc[2]"
   ]
  },
  {
   "cell_type": "code",
   "execution_count": 31,
   "metadata": {},
   "outputs": [],
   "source": [
    "X_train, X_test, y_train, y_test = train_test_split(x, y, test_size=0.33, random_state=324)"
   ]
  },
  {
   "cell_type": "code",
   "execution_count": 32,
   "metadata": {
    "scrolled": true
   },
   "outputs": [
    {
     "data": {
      "text/plain": [
       "LinearRegression(copy_X=True, fit_intercept=True, n_jobs=None, normalize=False)"
      ]
     },
     "execution_count": 32,
     "metadata": {},
     "output_type": "execute_result"
    }
   ],
   "source": [
    "\n",
    "###linael regresor\n",
    "regressor = LinearRegression()\n",
    "regressor.fit(X_train, y_train)"
   ]
  },
  {
   "cell_type": "code",
   "execution_count": 33,
   "metadata": {},
   "outputs": [
    {
     "data": {
      "text/plain": [
       "array([[192.60331433],\n",
       "       [ -6.87209243],\n",
       "       [122.54470591],\n",
       "       [ 96.46985626],\n",
       "       [212.53039663],\n",
       "       [163.05679137],\n",
       "       [213.35657222],\n",
       "       [104.68081069],\n",
       "       [138.32749104],\n",
       "       [226.62165584],\n",
       "       [121.27558288],\n",
       "       [ 92.50779543],\n",
       "       [ 96.11264361],\n",
       "       [126.13987099],\n",
       "       [121.63597505],\n",
       "       [121.43322524],\n",
       "       [124.13225503],\n",
       "       [213.27216862],\n",
       "       [ 90.98565043],\n",
       "       [105.56389733],\n",
       "       [116.69013019],\n",
       "       [135.85756899],\n",
       "       [174.24809201],\n",
       "       [127.45515996],\n",
       "       [104.45683872],\n",
       "       [122.40533743],\n",
       "       [102.46247683],\n",
       "       [101.00034769],\n",
       "       [149.24764948],\n",
       "       [120.96985282],\n",
       "       [ 98.25875389],\n",
       "       [ 98.54719447],\n",
       "       [118.93039576],\n",
       "       [118.86171653],\n",
       "       [119.44785227],\n",
       "       [129.40561049],\n",
       "       [127.71976157],\n",
       "       [201.85272389],\n",
       "       [125.26517421],\n",
       "       [170.3579369 ],\n",
       "       [ 31.48459645],\n",
       "       [222.06155039],\n",
       "       [ 97.09960647],\n",
       "       [192.35241034],\n",
       "       [121.45063231],\n",
       "       [135.01312682],\n",
       "       [124.47307925],\n",
       "       [200.1609029 ],\n",
       "       [133.263836  ],\n",
       "       [101.1857074 ],\n",
       "       [102.53464378],\n",
       "       [149.11869791],\n",
       "       [217.53020541],\n",
       "       [135.20137112],\n",
       "       [112.78853986],\n",
       "       [ 97.27647532],\n",
       "       [144.8940318 ],\n",
       "       [101.68275331],\n",
       "       [179.96302931],\n",
       "       [178.4105702 ],\n",
       "       [ 84.30714205],\n",
       "       [112.99870333],\n",
       "       [130.82779772],\n",
       "       [152.23268717],\n",
       "       [112.59935938],\n",
       "       [197.7351109 ],\n",
       "       [107.19044915],\n",
       "       [ 90.41916993],\n",
       "       [117.25069986],\n",
       "       [201.49286604],\n",
       "       [105.63765327],\n",
       "       [166.74737746],\n",
       "       [185.57259417],\n",
       "       [140.01778193],\n",
       "       [104.43537506],\n",
       "       [136.13434831],\n",
       "       [149.92924349],\n",
       "       [166.29318085],\n",
       "       [207.50968512],\n",
       "       [182.6966759 ],\n",
       "       [103.19808735],\n",
       "       [137.41720167],\n",
       "       [103.0542785 ],\n",
       "       [179.77982616],\n",
       "       [ 95.99720659],\n",
       "       [114.48305697],\n",
       "       [125.27619638],\n",
       "       [118.64675239],\n",
       "       [111.85530263],\n",
       "       [200.97538589],\n",
       "       [126.28225936],\n",
       "       [205.77926409],\n",
       "       [105.30049486],\n",
       "       [102.23365851],\n",
       "       [  8.41032247],\n",
       "       [110.32929468],\n",
       "       [145.29742451],\n",
       "       [147.42620638],\n",
       "       [100.20630087],\n",
       "       [201.68080075],\n",
       "       [149.01838217],\n",
       "       [ 96.1300492 ],\n",
       "       [109.06867514],\n",
       "       [152.07377235],\n",
       "       [110.08611121],\n",
       "       [171.42614363],\n",
       "       [110.22948443],\n",
       "       [ 24.33601528],\n",
       "       [112.5709888 ],\n",
       "       [195.6479778 ],\n",
       "       [ 80.05379246],\n",
       "       [116.9305514 ],\n",
       "       [185.68111711],\n",
       "       [117.81461722],\n",
       "       [113.40406152],\n",
       "       [155.83633645],\n",
       "       [212.83012573],\n",
       "       [129.20864459],\n",
       "       [109.26600139],\n",
       "       [142.37419634],\n",
       "       [178.81064134],\n",
       "       [102.95771131],\n",
       "       [ 95.13570471],\n",
       "       [108.85963143],\n",
       "       [119.92797024],\n",
       "       [102.79515171],\n",
       "       [197.37778079],\n",
       "       [152.66163934],\n",
       "       [190.15957911],\n",
       "       [147.84744559],\n",
       "       [110.29825162],\n",
       "       [ 99.83946454],\n",
       "       [ 84.68204845],\n",
       "       [120.4542402 ],\n",
       "       [131.92806851],\n",
       "       [144.16846043],\n",
       "       [198.64839824],\n",
       "       [118.28461458],\n",
       "       [145.97281456],\n",
       "       [ 80.11658059],\n",
       "       [ 57.9968966 ],\n",
       "       [132.1721431 ],\n",
       "       [ 98.4433451 ],\n",
       "       [ 96.99608449],\n",
       "       [102.25386504],\n",
       "       [120.38987168],\n",
       "       [104.61540296],\n",
       "       [ 99.35536377],\n",
       "       [135.50219469],\n",
       "       [146.78546614],\n",
       "       [182.08179947],\n",
       "       [122.47890208],\n",
       "       [110.01426729],\n",
       "       [101.59055259],\n",
       "       [197.75318001],\n",
       "       [114.92698976],\n",
       "       [130.00486843],\n",
       "       [130.06208209],\n",
       "       [101.84590395],\n",
       "       [105.01392635],\n",
       "       [113.27953923],\n",
       "       [171.52024864],\n",
       "       [150.93439895],\n",
       "       [114.35150244],\n",
       "       [204.76453858],\n",
       "       [ 92.20660985],\n",
       "       [147.33393549],\n",
       "       [106.2286594 ],\n",
       "       [200.34095156],\n",
       "       [156.41507129],\n",
       "       [204.68988818],\n",
       "       [112.33027544],\n",
       "       [156.31821719],\n",
       "       [139.72621093],\n",
       "       [212.91706686],\n",
       "       [131.7260149 ],\n",
       "       [110.03334817],\n",
       "       [106.28759097],\n",
       "       [199.74040672],\n",
       "       [104.01761174],\n",
       "       [111.8463414 ],\n",
       "       [105.34671389],\n",
       "       [100.94018646],\n",
       "       [ 36.9123001 ],\n",
       "       [118.81540742],\n",
       "       [195.09550002],\n",
       "       [209.32751124],\n",
       "       [ 96.26394018],\n",
       "       [201.65276326],\n",
       "       [101.88051941],\n",
       "       [100.27631426],\n",
       "       [ 94.68016764],\n",
       "       [117.19388858],\n",
       "       [133.86465578],\n",
       "       [116.44333332],\n",
       "       [102.42124053],\n",
       "       [106.13385244],\n",
       "       [103.20324684],\n",
       "       [106.63923985],\n",
       "       [ 89.35677994],\n",
       "       [123.71392317],\n",
       "       [151.2730306 ],\n",
       "       [ 99.5160545 ],\n",
       "       [127.16856011],\n",
       "       [106.11242339],\n",
       "       [144.96832227],\n",
       "       [203.02492775],\n",
       "       [ 98.6271721 ],\n",
       "       [ 80.9404936 ],\n",
       "       [119.57768983],\n",
       "       [189.14613896],\n",
       "       [152.07635474],\n",
       "       [143.93054848],\n",
       "       [117.16965169],\n",
       "       [127.74422708],\n",
       "       [142.03706576],\n",
       "       [213.01457526],\n",
       "       [113.95778321],\n",
       "       [195.76789792],\n",
       "       [143.29367179],\n",
       "       [161.75183359],\n",
       "       [ 96.64679754],\n",
       "       [129.06847192],\n",
       "       [183.02629872],\n",
       "       [101.61611556],\n",
       "       [196.59956164],\n",
       "       [150.03699104],\n",
       "       [ 95.84810839],\n",
       "       [146.16549075],\n",
       "       [152.90440121],\n",
       "       [180.65586459],\n",
       "       [104.52908627],\n",
       "       [104.57663463],\n",
       "       [103.72404896],\n",
       "       [149.26905053],\n",
       "       [112.63200088],\n",
       "       [ 99.8383396 ],\n",
       "       [159.22516773],\n",
       "       [205.86723542],\n",
       "       [125.76217421],\n",
       "       [187.4446048 ],\n",
       "       [ 99.59342988],\n",
       "       [104.12420294],\n",
       "       [150.1871292 ],\n",
       "       [186.45890224],\n",
       "       [124.37787537],\n",
       "       [142.45310128],\n",
       "       [205.10181724],\n",
       "       [130.66822506],\n",
       "       [179.53545404],\n",
       "       [ 78.94762945],\n",
       "       [ 99.51423241],\n",
       "       [170.5408187 ],\n",
       "       [166.11769928],\n",
       "       [119.44316978],\n",
       "       [123.04301131],\n",
       "       [154.41229913],\n",
       "       [145.90640095],\n",
       "       [ 93.74510864],\n",
       "       [140.71197692],\n",
       "       [204.50243096],\n",
       "       [109.2027644 ],\n",
       "       [101.47362526],\n",
       "       [112.75885135],\n",
       "       [115.26400689],\n",
       "       [114.35814223],\n",
       "       [ 97.35614765],\n",
       "       [105.27806129],\n",
       "       [116.77504488],\n",
       "       [189.47389917],\n",
       "       [155.87377656],\n",
       "       [116.72093642],\n",
       "       [167.72103581],\n",
       "       [110.51874246],\n",
       "       [158.81348942],\n",
       "       [144.32160609],\n",
       "       [137.96143117],\n",
       "       [120.47156995],\n",
       "       [116.75500712],\n",
       "       [101.65814424],\n",
       "       [ 92.49402028],\n",
       "       [157.13951953],\n",
       "       [137.88694376],\n",
       "       [ 63.22725064],\n",
       "       [154.64656693],\n",
       "       [105.09832192],\n",
       "       [119.87046814],\n",
       "       [204.65920205],\n",
       "       [120.66676736],\n",
       "       [154.25204629],\n",
       "       [234.9300522 ],\n",
       "       [106.73360658],\n",
       "       [120.54482194],\n",
       "       [149.3106797 ],\n",
       "       [110.84176788],\n",
       "       [112.89582877],\n",
       "       [118.47226966],\n",
       "       [ 99.24378515],\n",
       "       [118.15319383],\n",
       "       [114.79219844],\n",
       "       [122.57792388],\n",
       "       [111.60883145],\n",
       "       [181.43041571],\n",
       "       [ 95.01889225],\n",
       "       [100.70677189],\n",
       "       [191.66480478],\n",
       "       [ 85.89008311],\n",
       "       [121.27130938],\n",
       "       [125.60480974],\n",
       "       [142.77339731],\n",
       "       [192.38752964],\n",
       "       [162.62753733],\n",
       "       [196.99725713],\n",
       "       [210.65577113],\n",
       "       [149.59146986],\n",
       "       [142.90399979],\n",
       "       [202.13655157],\n",
       "       [208.56485574],\n",
       "       [ 90.5314125 ],\n",
       "       [127.15852588],\n",
       "       [143.77819799],\n",
       "       [ 97.12612134],\n",
       "       [ 89.95419323],\n",
       "       [146.37754686],\n",
       "       [ 97.94577461],\n",
       "       [183.37441058],\n",
       "       [113.74826816],\n",
       "       [145.67587502],\n",
       "       [134.33911524],\n",
       "       [145.76711584],\n",
       "       [102.46740771],\n",
       "       [235.66164879],\n",
       "       [ 86.18802595],\n",
       "       [144.04058555],\n",
       "       [150.02941172],\n",
       "       [ 98.19829005],\n",
       "       [ 97.86170369],\n",
       "       [143.54679155],\n",
       "       [136.74517717],\n",
       "       [198.87141031],\n",
       "       [122.94005061],\n",
       "       [ 98.67517949],\n",
       "       [150.13231626],\n",
       "       [113.87450449],\n",
       "       [ 95.86762224],\n",
       "       [122.64213495],\n",
       "       [166.45791266],\n",
       "       [  6.37831622],\n",
       "       [ 96.70146392],\n",
       "       [ 82.13070447],\n",
       "       [156.54420007],\n",
       "       [129.42119804],\n",
       "       [ 95.14074606],\n",
       "       [211.65188833],\n",
       "       [189.6628534 ],\n",
       "       [193.50229822],\n",
       "       [ 95.3978362 ],\n",
       "       [100.33556016],\n",
       "       [215.05062638],\n",
       "       [ 92.43627734],\n",
       "       [208.85195036],\n",
       "       [ 89.46438407],\n",
       "       [ 60.10995627],\n",
       "       [114.52356902],\n",
       "       [118.91759531],\n",
       "       [126.42848793],\n",
       "       [143.88971538],\n",
       "       [141.82833816],\n",
       "       [103.74265258],\n",
       "       [ 90.24631024],\n",
       "       [200.34394901],\n",
       "       [122.52496744],\n",
       "       [198.87710673],\n",
       "       [ 79.90366643],\n",
       "       [142.38717534],\n",
       "       [217.03013637],\n",
       "       [ 87.50525614],\n",
       "       [109.89605555],\n",
       "       [207.36276884],\n",
       "       [146.31458618],\n",
       "       [156.43050273],\n",
       "       [ 94.99542384],\n",
       "       [105.1723189 ],\n",
       "       [132.09968922],\n",
       "       [107.3308421 ],\n",
       "       [ 75.27197199],\n",
       "       [ 97.73788463],\n",
       "       [116.08074494],\n",
       "       [ 76.4642869 ],\n",
       "       [124.11049715],\n",
       "       [152.79401481],\n",
       "       [111.1169321 ],\n",
       "       [210.96999741],\n",
       "       [ 94.81620127],\n",
       "       [138.67024405],\n",
       "       [115.47413017],\n",
       "       [111.02585892],\n",
       "       [135.91871661],\n",
       "       [172.83602854],\n",
       "       [101.00484916],\n",
       "       [164.41620802],\n",
       "       [206.04000697],\n",
       "       [149.38995224],\n",
       "       [125.6950651 ],\n",
       "       [106.13022429],\n",
       "       [115.96854406],\n",
       "       [143.90260702],\n",
       "       [129.60022506],\n",
       "       [117.24701074],\n",
       "       [121.17294518],\n",
       "       [149.21199757],\n",
       "       [198.28716623],\n",
       "       [209.98781335],\n",
       "       [146.58597807],\n",
       "       [102.09053969],\n",
       "       [119.29285919],\n",
       "       [ 98.70423565],\n",
       "       [126.53599077],\n",
       "       [145.45677335],\n",
       "       [163.89870243],\n",
       "       [119.88540557],\n",
       "       [135.3155221 ],\n",
       "       [160.33221831],\n",
       "       [185.33296451],\n",
       "       [129.42581173],\n",
       "       [102.36999338],\n",
       "       [104.97685808],\n",
       "       [117.40478151],\n",
       "       [202.79542119],\n",
       "       [119.59211   ],\n",
       "       [102.36457142],\n",
       "       [124.27131875],\n",
       "       [107.05495615],\n",
       "       [123.809679  ],\n",
       "       [133.63127146],\n",
       "       [117.58143434],\n",
       "       [225.39720978],\n",
       "       [137.14520975],\n",
       "       [118.0734103 ],\n",
       "       [170.09253997],\n",
       "       [121.95655006],\n",
       "       [107.88748917],\n",
       "       [174.19567562],\n",
       "       [118.22581557],\n",
       "       [137.35677938],\n",
       "       [ 83.1283116 ],\n",
       "       [ 89.98992824],\n",
       "       [ 96.51578546],\n",
       "       [170.22801296],\n",
       "       [184.18819025],\n",
       "       [ 85.80172865],\n",
       "       [195.19457969],\n",
       "       [101.93306422],\n",
       "       [187.20664717],\n",
       "       [114.08822331],\n",
       "       [120.1213412 ],\n",
       "       [141.68563524],\n",
       "       [101.13960387],\n",
       "       [191.3172364 ],\n",
       "       [ 85.57151068],\n",
       "       [150.65825845],\n",
       "       [132.9021428 ],\n",
       "       [104.00939261],\n",
       "       [227.68324635],\n",
       "       [148.31097049],\n",
       "       [133.11535755],\n",
       "       [105.67289976],\n",
       "       [ 99.45103537],\n",
       "       [ 92.12881101],\n",
       "       [103.102344  ],\n",
       "       [ 98.28516531],\n",
       "       [143.35312375],\n",
       "       [ 99.10802886],\n",
       "       [188.49603521],\n",
       "       [105.90024567],\n",
       "       [194.74736925],\n",
       "       [204.07068919],\n",
       "       [140.59421965],\n",
       "       [104.42360705],\n",
       "       [111.04868044],\n",
       "       [121.01581109],\n",
       "       [132.15693991],\n",
       "       [123.1939442 ],\n",
       "       [149.55927546],\n",
       "       [148.10874764],\n",
       "       [138.43447938],\n",
       "       [175.58307048],\n",
       "       [162.14483126],\n",
       "       [126.5936482 ],\n",
       "       [150.49263233],\n",
       "       [104.19368789],\n",
       "       [118.39233562],\n",
       "       [130.62683732],\n",
       "       [113.10257736],\n",
       "       [150.91921583],\n",
       "       [142.74191982],\n",
       "       [164.33249683],\n",
       "       [166.66290769],\n",
       "       [172.56161584],\n",
       "       [ 74.12011001],\n",
       "       [118.16542406],\n",
       "       [104.81281002],\n",
       "       [120.61751081],\n",
       "       [103.12005167],\n",
       "       [104.25429984],\n",
       "       [209.84423863],\n",
       "       [203.93683271],\n",
       "       [107.25813681],\n",
       "       [ 98.42386856],\n",
       "       [122.44493512],\n",
       "       [175.55576985],\n",
       "       [182.64272615],\n",
       "       [116.75811206],\n",
       "       [104.79365421],\n",
       "       [245.87392093],\n",
       "       [109.99505654],\n",
       "       [134.05409878],\n",
       "       [141.54536837],\n",
       "       [ 99.8104319 ],\n",
       "       [180.5849457 ],\n",
       "       [ 98.15108406],\n",
       "       [193.45341133],\n",
       "       [212.49380539],\n",
       "       [136.03540899],\n",
       "       [ 63.64234952],\n",
       "       [205.16527659],\n",
       "       [126.00480745],\n",
       "       [123.75768542],\n",
       "       [128.36045476],\n",
       "       [124.38482008],\n",
       "       [ 84.62878088],\n",
       "       [ 96.22813514],\n",
       "       [124.5108496 ],\n",
       "       [148.01605294],\n",
       "       [134.35564607],\n",
       "       [ 99.5077603 ],\n",
       "       [104.20365011],\n",
       "       [179.53502357],\n",
       "       [134.50992997],\n",
       "       [ 92.27222729],\n",
       "       [ 94.09773986],\n",
       "       [113.33638848],\n",
       "       [199.69249134],\n",
       "       [118.802888  ],\n",
       "       [147.66550968],\n",
       "       [192.4347711 ],\n",
       "       [102.2022378 ],\n",
       "       [117.85314261],\n",
       "       [ 94.77118279],\n",
       "       [211.99989545],\n",
       "       [ 83.88115524],\n",
       "       [182.64945118],\n",
       "       [211.85634715],\n",
       "       [212.6736017 ],\n",
       "       [105.17333985],\n",
       "       [195.39061284],\n",
       "       [123.46327378],\n",
       "       [185.4299523 ],\n",
       "       [152.46605271],\n",
       "       [ 83.67095627],\n",
       "       [236.85063093],\n",
       "       [116.39203513],\n",
       "       [100.84805425],\n",
       "       [209.47686728],\n",
       "       [ 96.13361597],\n",
       "       [119.01468962],\n",
       "       [ 98.46241696],\n",
       "       [118.21598751],\n",
       "       [124.00898864],\n",
       "       [204.92379089],\n",
       "       [151.24290854],\n",
       "       [111.03897953],\n",
       "       [139.66753356],\n",
       "       [103.61980221],\n",
       "       [ 82.53151346],\n",
       "       [119.29681765],\n",
       "       [185.89995067],\n",
       "       [170.90334808],\n",
       "       [104.12102636],\n",
       "       [146.12105458],\n",
       "       [170.01802958],\n",
       "       [ 94.14374692],\n",
       "       [ 86.22681131],\n",
       "       [103.61363083],\n",
       "       [ 77.64717468],\n",
       "       [180.02373763],\n",
       "       [122.67503377],\n",
       "       [169.04235455],\n",
       "       [138.36288164],\n",
       "       [199.21804169],\n",
       "       [116.32082256],\n",
       "       [103.54369646],\n",
       "       [191.33206087],\n",
       "       [127.70833769],\n",
       "       [116.68218472],\n",
       "       [211.94757739],\n",
       "       [ 50.29249517],\n",
       "       [122.1547022 ],\n",
       "       [ 87.3369223 ],\n",
       "       [139.81304282],\n",
       "       [124.30370451],\n",
       "       [101.01455143],\n",
       "       [ 79.00663191],\n",
       "       [198.06864731],\n",
       "       [131.43926639],\n",
       "       [110.29094737],\n",
       "       [118.24343455],\n",
       "       [114.57516639],\n",
       "       [215.05680677],\n",
       "       [188.17459917],\n",
       "       [104.59765225],\n",
       "       [ 99.67045422],\n",
       "       [123.61597083],\n",
       "       [212.61969793],\n",
       "       [105.79482119],\n",
       "       [205.59280711],\n",
       "       [203.9874911 ],\n",
       "       [ 80.72267061],\n",
       "       [ 87.81584697],\n",
       "       [144.60877851],\n",
       "       [ 92.10638534],\n",
       "       [205.25366055],\n",
       "       [146.46374792],\n",
       "       [148.67926109],\n",
       "       [103.9226385 ],\n",
       "       [205.61956624],\n",
       "       [132.37269546],\n",
       "       [124.13734642],\n",
       "       [209.31312926],\n",
       "       [135.78290735],\n",
       "       [212.68373595],\n",
       "       [108.72175507],\n",
       "       [122.60104129],\n",
       "       [204.07820717],\n",
       "       [ 70.49874206],\n",
       "       [100.52580433],\n",
       "       [137.05043393],\n",
       "       [162.04789883],\n",
       "       [122.49234449],\n",
       "       [119.77358656],\n",
       "       [ 92.52724184],\n",
       "       [162.90829455],\n",
       "       [148.07522308],\n",
       "       [195.4262723 ],\n",
       "       [190.72020458],\n",
       "       [118.59628533],\n",
       "       [127.12930438],\n",
       "       [112.30399057],\n",
       "       [115.13220253],\n",
       "       [185.00432628],\n",
       "       [ 85.5648853 ],\n",
       "       [123.48661005],\n",
       "       [122.21696623],\n",
       "       [193.98179983],\n",
       "       [147.58401406],\n",
       "       [114.92761499],\n",
       "       [118.01659802],\n",
       "       [119.11047451],\n",
       "       [184.24462395],\n",
       "       [161.19518666],\n",
       "       [209.40514047],\n",
       "       [210.01786332],\n",
       "       [139.23338641],\n",
       "       [ 98.64770865],\n",
       "       [148.31145444],\n",
       "       [121.25196157],\n",
       "       [168.76325515],\n",
       "       [199.59121132],\n",
       "       [110.16195268],\n",
       "       [165.76330965],\n",
       "       [187.17538874],\n",
       "       [106.55172506],\n",
       "       [ 94.72491844],\n",
       "       [111.67631597],\n",
       "       [193.93570152],\n",
       "       [212.67743859],\n",
       "       [182.62605897],\n",
       "       [194.5986942 ],\n",
       "       [129.33818367],\n",
       "       [ 99.61996426],\n",
       "       [124.81515201],\n",
       "       [204.11684568],\n",
       "       [109.82651129],\n",
       "       [102.55174698],\n",
       "       [141.19397986],\n",
       "       [158.99699526],\n",
       "       [ 97.71789042],\n",
       "       [201.38519712],\n",
       "       [119.8661486 ],\n",
       "       [154.9123276 ],\n",
       "       [116.72281833],\n",
       "       [ 89.06336002],\n",
       "       [116.61576811],\n",
       "       [102.73382377],\n",
       "       [ 95.02317997],\n",
       "       [166.49030781],\n",
       "       [155.20190065],\n",
       "       [108.91891392],\n",
       "       [169.6838685 ],\n",
       "       [170.22095356],\n",
       "       [203.54087294],\n",
       "       [111.22256469],\n",
       "       [173.54303628],\n",
       "       [135.61229841],\n",
       "       [203.77769177],\n",
       "       [ 78.62357643],\n",
       "       [121.05011616],\n",
       "       [219.58058194],\n",
       "       [105.35896856],\n",
       "       [ 55.33755078],\n",
       "       [131.98640058],\n",
       "       [112.4447288 ],\n",
       "       [203.03353619],\n",
       "       [123.22788235],\n",
       "       [101.94752091],\n",
       "       [118.07271408],\n",
       "       [100.09991233],\n",
       "       [ 99.12207004],\n",
       "       [164.30090934],\n",
       "       [172.96724296],\n",
       "       [115.64416147],\n",
       "       [203.61548929],\n",
       "       [ 79.12806806],\n",
       "       [103.06309013],\n",
       "       [116.9059387 ],\n",
       "       [119.15432947],\n",
       "       [111.37551049],\n",
       "       [124.56641592],\n",
       "       [119.85890919],\n",
       "       [178.44297306],\n",
       "       [177.0292988 ],\n",
       "       [134.07309731],\n",
       "       [ 99.94868574],\n",
       "       [115.35756249],\n",
       "       [157.25560105],\n",
       "       [ 96.66652134],\n",
       "       [190.92924117],\n",
       "       [122.35699029],\n",
       "       [160.74543227],\n",
       "       [168.81949062],\n",
       "       [120.12146234],\n",
       "       [172.487405  ],\n",
       "       [106.10972746],\n",
       "       [177.06735253],\n",
       "       [152.9761835 ],\n",
       "       [104.37556156],\n",
       "       [176.77383039],\n",
       "       [194.42289818],\n",
       "       [127.39710966],\n",
       "       [105.46365224],\n",
       "       [111.52748964],\n",
       "       [ 91.99297412],\n",
       "       [ 83.70100397],\n",
       "       [102.73186122],\n",
       "       [175.18801777],\n",
       "       [111.35687001],\n",
       "       [ 63.16670889],\n",
       "       [208.42953157],\n",
       "       [146.96547353],\n",
       "       [216.09904792],\n",
       "       [105.92424143],\n",
       "       [158.74141712],\n",
       "       [178.48598444],\n",
       "       [128.79640983],\n",
       "       [151.99206284],\n",
       "       [154.72122233],\n",
       "       [103.14446889],\n",
       "       [191.86134182],\n",
       "       [122.78723042],\n",
       "       [107.26168892],\n",
       "       [ 94.7736026 ],\n",
       "       [105.04646191],\n",
       "       [149.17058702],\n",
       "       [107.91078598],\n",
       "       [211.4064128 ],\n",
       "       [114.05714146],\n",
       "       [111.97930055],\n",
       "       [151.96112248],\n",
       "       [273.07316028],\n",
       "       [124.13399227],\n",
       "       [131.35580735],\n",
       "       [134.57978559],\n",
       "       [147.68303785],\n",
       "       [117.83180353],\n",
       "       [ 95.83721375],\n",
       "       [201.72010457],\n",
       "       [ 74.49736626],\n",
       "       [105.07447718],\n",
       "       [176.68093791],\n",
       "       [196.46893807],\n",
       "       [202.42171473],\n",
       "       [136.4051308 ],\n",
       "       [ 86.22937591],\n",
       "       [120.38516489],\n",
       "       [115.24488574],\n",
       "       [202.36275133],\n",
       "       [ 72.24690835],\n",
       "       [110.48793148],\n",
       "       [108.91220487],\n",
       "       [139.8924044 ],\n",
       "       [160.93592242],\n",
       "       [206.5858923 ],\n",
       "       [118.00992556],\n",
       "       [197.5778516 ],\n",
       "       [107.25096865],\n",
       "       [218.83304844],\n",
       "       [147.09119924],\n",
       "       [156.44724753],\n",
       "       [113.99479031],\n",
       "       [144.41457321],\n",
       "       [126.32149172],\n",
       "       [112.56695666],\n",
       "       [206.22710048],\n",
       "       [186.02380564],\n",
       "       [209.36040414],\n",
       "       [101.52692523],\n",
       "       [146.35403766],\n",
       "       [219.11044564],\n",
       "       [174.19061386],\n",
       "       [121.71473254],\n",
       "       [120.63360439],\n",
       "       [153.16802701],\n",
       "       [167.70332886],\n",
       "       [101.29925798],\n",
       "       [122.0067629 ],\n",
       "       [117.839152  ],\n",
       "       [194.42090572],\n",
       "       [106.3769496 ],\n",
       "       [108.332212  ],\n",
       "       [178.34156879],\n",
       "       [168.27920028],\n",
       "       [192.53253118],\n",
       "       [102.87038364],\n",
       "       [149.67447108],\n",
       "       [ 84.33979479],\n",
       "       [136.41436982],\n",
       "       [116.30803301],\n",
       "       [197.01781826],\n",
       "       [197.98393519],\n",
       "       [120.98678823],\n",
       "       [ 66.91041882],\n",
       "       [111.53858294],\n",
       "       [128.64025967],\n",
       "       [104.63643819],\n",
       "       [154.44669024],\n",
       "       [165.84437079]])"
      ]
     },
     "execution_count": 33,
     "metadata": {},
     "output_type": "execute_result"
    }
   ],
   "source": [
    "y_prediction = regressor.predict(X_test)\n",
    "y_prediction"
   ]
  },
  {
   "cell_type": "code",
   "execution_count": 34,
   "metadata": {},
   "outputs": [
    {
     "data": {
      "text/html": [
       "<div>\n",
       "<style scoped>\n",
       "    .dataframe tbody tr th:only-of-type {\n",
       "        vertical-align: middle;\n",
       "    }\n",
       "\n",
       "    .dataframe tbody tr th {\n",
       "        vertical-align: top;\n",
       "    }\n",
       "\n",
       "    .dataframe thead th {\n",
       "        text-align: right;\n",
       "    }\n",
       "</style>\n",
       "<table border=\"1\" class=\"dataframe\">\n",
       "  <thead>\n",
       "    <tr style=\"text-align: right;\">\n",
       "      <th></th>\n",
       "      <th>price</th>\n",
       "    </tr>\n",
       "  </thead>\n",
       "  <tbody>\n",
       "    <tr>\n",
       "      <td>count</td>\n",
       "      <td>846.000000</td>\n",
       "    </tr>\n",
       "    <tr>\n",
       "      <td>mean</td>\n",
       "      <td>133.419622</td>\n",
       "    </tr>\n",
       "    <tr>\n",
       "      <td>std</td>\n",
       "      <td>149.608373</td>\n",
       "    </tr>\n",
       "    <tr>\n",
       "      <td>min</td>\n",
       "      <td>0.000000</td>\n",
       "    </tr>\n",
       "    <tr>\n",
       "      <td>25%</td>\n",
       "      <td>56.250000</td>\n",
       "    </tr>\n",
       "    <tr>\n",
       "      <td>50%</td>\n",
       "      <td>99.000000</td>\n",
       "    </tr>\n",
       "    <tr>\n",
       "      <td>75%</td>\n",
       "      <td>150.000000</td>\n",
       "    </tr>\n",
       "    <tr>\n",
       "      <td>max</td>\n",
       "      <td>2000.000000</td>\n",
       "    </tr>\n",
       "  </tbody>\n",
       "</table>\n",
       "</div>"
      ],
      "text/plain": [
       "             price\n",
       "count   846.000000\n",
       "mean    133.419622\n",
       "std     149.608373\n",
       "min       0.000000\n",
       "25%      56.250000\n",
       "50%      99.000000\n",
       "75%     150.000000\n",
       "max    2000.000000"
      ]
     },
     "execution_count": 34,
     "metadata": {},
     "output_type": "execute_result"
    }
   ],
   "source": [
    "y_test.describe()"
   ]
  },
  {
   "cell_type": "code",
   "execution_count": 35,
   "metadata": {},
   "outputs": [
    {
     "name": "stdout",
     "output_type": "stream",
     "text": [
      "144.05523178206013\n"
     ]
    }
   ],
   "source": [
    "RMSE = sqrt(mean_squared_error(y_true = y_test, y_pred = y_prediction))\n",
    "###std ->149.608373\n",
    "print(RMSE)"
   ]
  }
 ],
 "metadata": {
  "kernelspec": {
   "display_name": "Python 3",
   "language": "python",
   "name": "python3"
  },
  "language_info": {
   "codemirror_mode": {
    "name": "ipython",
    "version": 3
   },
   "file_extension": ".py",
   "mimetype": "text/x-python",
   "name": "python",
   "nbconvert_exporter": "python",
   "pygments_lexer": "ipython3",
   "version": "3.7.4"
  }
 },
 "nbformat": 4,
 "nbformat_minor": 2
}
